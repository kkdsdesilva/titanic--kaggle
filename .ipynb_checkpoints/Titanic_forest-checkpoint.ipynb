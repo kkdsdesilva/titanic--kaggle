{
 "cells": [
  {
   "cell_type": "code",
   "execution_count": 1,
   "id": "c7a82819",
   "metadata": {},
   "outputs": [],
   "source": [
    "from sklearn.ensemble import RandomForestClassifier\n",
    "from sklearn.model_selection import train_test_split\n",
    "import pandas as pd\n",
    "import numpy as np"
   ]
  },
  {
   "cell_type": "code",
   "execution_count": 2,
   "id": "88ca16f0",
   "metadata": {},
   "outputs": [],
   "source": [
    "# Load data\n",
    "train = pd.read_csv('train.csv')\n",
    "test = pd.read_csv('test.csv')"
   ]
  },
  {
   "cell_type": "code",
   "execution_count": 3,
   "id": "5cbb6d35",
   "metadata": {},
   "outputs": [
    {
     "data": {
      "text/plain": [
       "PassengerId      0\n",
       "Survived         0\n",
       "Pclass           0\n",
       "Name             0\n",
       "Sex              0\n",
       "Age            177\n",
       "SibSp            0\n",
       "Parch            0\n",
       "Ticket           0\n",
       "Fare             0\n",
       "Cabin          687\n",
       "Embarked         2\n",
       "dtype: int64"
      ]
     },
     "execution_count": 3,
     "metadata": {},
     "output_type": "execute_result"
    }
   ],
   "source": [
    "# Look for missing values\n",
    "train.isna().sum()"
   ]
  },
  {
   "cell_type": "code",
   "execution_count": 4,
   "id": "2fdb856f",
   "metadata": {},
   "outputs": [],
   "source": [
    "# Imputing missing values\n",
    "train['Pclass'] = train['Pclass'].astype('category')\n",
    "train['Age'].fillna(train['Age'].mean(), inplace=True)\n",
    "\n",
    "train['Cabin'] = train[~train['Cabin'].isna()]['Cabin'].map(lambda x: x[0])\n",
    "train['Cabin'].fillna(train['Cabin'].mode()[0], inplace=True)"
   ]
  },
  {
   "cell_type": "code",
   "execution_count": 5,
   "id": "3a646a97",
   "metadata": {},
   "outputs": [
    {
     "data": {
      "text/plain": [
       "C    746\n",
       "B     47\n",
       "D     33\n",
       "E     32\n",
       "A     15\n",
       "F     13\n",
       "G      4\n",
       "T      1\n",
       "Name: Cabin, dtype: int64"
      ]
     },
     "execution_count": 5,
     "metadata": {},
     "output_type": "execute_result"
    }
   ],
   "source": [
    "train['Cabin'].value_counts()"
   ]
  },
  {
   "cell_type": "code",
   "execution_count": 6,
   "id": "850c5440",
   "metadata": {},
   "outputs": [],
   "source": [
    "# Since there are no T-Cabins in the test dataset, we drop that sample\n",
    "#train = train[train['Cabin'] != 'T']"
   ]
  },
  {
   "cell_type": "code",
   "execution_count": 75,
   "id": "8b4bc8ef",
   "metadata": {},
   "outputs": [],
   "source": [
    "# 1-hot encoding for Categorical data\n",
    "X = pd.get_dummies(train.drop(['PassengerId', 'Survived', 'Name', 'Ticket', 'Cabin' \\\n",
    "                               ], axis=1), drop_first=True).values\n",
    "\n",
    "y = train['Survived'].values"
   ]
  },
  {
   "cell_type": "code",
   "execution_count": 76,
   "id": "3a7a1e08",
   "metadata": {},
   "outputs": [],
   "source": [
    "# Split training and test datasets\n",
    "X_train, X_test, y_train, y_test = train_test_split(X,y, test_size=0.3, stratify=y)"
   ]
  },
  {
   "cell_type": "code",
   "execution_count": 86,
   "id": "35c5bd9e",
   "metadata": {},
   "outputs": [
    {
     "data": {
      "text/plain": [
       "0.8470149253731343"
      ]
     },
     "execution_count": 86,
     "metadata": {},
     "output_type": "execute_result"
    }
   ],
   "source": [
    "# Load the model\n",
    "forest = RandomForestClassifier(n_estimators=100, max_depth=5, random_state=9)\n",
    "\n",
    "# Fit the model\n",
    "forest.fit(X_train, y_train)\n",
    "\n",
    "# Accuracy of the model\n",
    "forest.score(X_test,y_test)"
   ]
  },
  {
   "cell_type": "code",
   "execution_count": 53,
   "id": "1237af97",
   "metadata": {},
   "outputs": [
    {
     "data": {
      "text/plain": [
       "RandomForestClassifier(max_depth=4, n_estimators=140, random_state=9)"
      ]
     },
     "execution_count": 53,
     "metadata": {},
     "output_type": "execute_result"
    }
   ],
   "source": [
    "# Train the model using the whole dataset\n",
    "forest.fit(X,y)"
   ]
  },
  {
   "cell_type": "markdown",
   "id": "72c92a4b",
   "metadata": {},
   "source": [
    "### GridSearch"
   ]
  },
  {
   "cell_type": "code",
   "execution_count": 54,
   "id": "e63471e2",
   "metadata": {},
   "outputs": [],
   "source": [
    "from sklearn.model_selection import GridSearchCV, KFold"
   ]
  },
  {
   "cell_type": "code",
   "execution_count": 55,
   "id": "7867c45c",
   "metadata": {},
   "outputs": [
    {
     "data": {
      "text/plain": [
       "GridSearchCV(cv=KFold(n_splits=6, random_state=9, shuffle=True),\n",
       "             estimator=RandomForestClassifier(),\n",
       "             param_grid={'max_depth': array([1, 2, 3, 4, 5, 6, 7, 8, 9]),\n",
       "                         'n_estimators': array([ 70,  80,  90, 100, 110, 120, 130, 140])})"
      ]
     },
     "execution_count": 55,
     "metadata": {},
     "output_type": "execute_result"
    }
   ],
   "source": [
    "param_grid = {'max_depth':np.arange(1,10,1), 'n_estimators':np.arange(70,150, 10) }\n",
    "\n",
    "kf = KFold(n_splits=6, shuffle=True, random_state=9)\n",
    "\n",
    "forest = RandomForestClassifier()\n",
    "\n",
    "forest_cv = GridSearchCV(forest, param_grid, cv=kf)\n",
    "\n",
    "forest_cv.fit(X_train, y_train)"
   ]
  },
  {
   "cell_type": "code",
   "execution_count": 78,
   "id": "5c87f662",
   "metadata": {},
   "outputs": [
    {
     "data": {
      "text/plain": [
       "{'max_depth': 5, 'n_estimators': 90}"
      ]
     },
     "execution_count": 78,
     "metadata": {},
     "output_type": "execute_result"
    }
   ],
   "source": [
    "forest_cv.best_params_"
   ]
  },
  {
   "cell_type": "code",
   "execution_count": 79,
   "id": "0314ab96",
   "metadata": {},
   "outputs": [
    {
     "data": {
      "text/plain": [
       "0.8427153348269852"
      ]
     },
     "execution_count": 79,
     "metadata": {},
     "output_type": "execute_result"
    }
   ],
   "source": [
    "forest_cv.best_score_"
   ]
  },
  {
   "cell_type": "code",
   "execution_count": 80,
   "id": "998fa296",
   "metadata": {},
   "outputs": [
    {
     "data": {
      "text/plain": [
       "RandomForestClassifier(max_depth=5, n_estimators=90)"
      ]
     },
     "execution_count": 80,
     "metadata": {},
     "output_type": "execute_result"
    }
   ],
   "source": [
    "forest = RandomForestClassifier(max_depth=5, n_estimators=90)\n",
    "\n",
    "forest.fit(X,y)"
   ]
  },
  {
   "cell_type": "markdown",
   "id": "cb799a33",
   "metadata": {},
   "source": [
    "### Prepare the test data"
   ]
  },
  {
   "cell_type": "code",
   "execution_count": 81,
   "id": "930d5a90",
   "metadata": {},
   "outputs": [
    {
     "data": {
      "text/plain": [
       "PassengerId    0\n",
       "Pclass         0\n",
       "Name           0\n",
       "Sex            0\n",
       "Age            0\n",
       "SibSp          0\n",
       "Parch          0\n",
       "Ticket         0\n",
       "Fare           0\n",
       "Cabin          0\n",
       "Embarked       0\n",
       "dtype: int64"
      ]
     },
     "execution_count": 81,
     "metadata": {},
     "output_type": "execute_result"
    }
   ],
   "source": [
    "test.isna().sum()"
   ]
  },
  {
   "cell_type": "code",
   "execution_count": 82,
   "id": "d76a088e",
   "metadata": {},
   "outputs": [],
   "source": [
    "# Imputing missing values\n",
    "test['Pclass'] = test['Pclass'].astype('category')\n",
    "test['Age'].fillna(train['Age'].mean(), inplace=True)\n",
    "\n",
    "test['Cabin'] = test[~test['Cabin'].isna()]['Cabin'].map(lambda x: x[0])\n",
    "test['Cabin'].fillna(train['Cabin'].mode()[0], inplace=True)\n",
    "\n",
    "test['Fare'].fillna(train['Fare'].mean(), inplace=True)"
   ]
  },
  {
   "cell_type": "code",
   "execution_count": 83,
   "id": "0c057411",
   "metadata": {},
   "outputs": [],
   "source": [
    "# 1-hot encoding for Categorical data\n",
    "X_new = pd.get_dummies(test.drop(['PassengerId', 'Name', 'Ticket', 'Cabin' \\\n",
    "                               ], axis=1), drop_first=True).values"
   ]
  },
  {
   "cell_type": "code",
   "execution_count": 84,
   "id": "3a361817",
   "metadata": {},
   "outputs": [],
   "source": [
    "# Predict the survivals\n",
    "pred = forest.predict(X_new)"
   ]
  },
  {
   "cell_type": "code",
   "execution_count": 85,
   "id": "757ee244",
   "metadata": {},
   "outputs": [],
   "source": [
    "survival = pd.DataFrame({'PassengerId':test['PassengerId'], 'Survived': pred})\n",
    "\n",
    "# Export the predictions\n",
    "survival.to_csv('survival.csv', index=False)"
   ]
  }
 ],
 "metadata": {
  "kernelspec": {
   "display_name": "Python 3 (ipykernel)",
   "language": "python",
   "name": "python3"
  },
  "language_info": {
   "codemirror_mode": {
    "name": "ipython",
    "version": 3
   },
   "file_extension": ".py",
   "mimetype": "text/x-python",
   "name": "python",
   "nbconvert_exporter": "python",
   "pygments_lexer": "ipython3",
   "version": "3.9.12"
  }
 },
 "nbformat": 4,
 "nbformat_minor": 5
}
